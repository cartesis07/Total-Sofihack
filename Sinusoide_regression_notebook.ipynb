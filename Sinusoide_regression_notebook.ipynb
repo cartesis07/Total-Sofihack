{
 "cells": [
  {
   "cell_type": "code",
   "execution_count": 5,
   "metadata": {},
   "outputs": [
    {
     "name": "stdout",
     "output_type": "stream",
     "text": [
      "Hackathon_Data/Dataset/Prediction1/mix1_régional/mix_28.csv\n",
      "Hackathon_Data/Dataset/Prediction1/mix1_régional/mix_76.csv\n",
      "Hackathon_Data/Dataset/Prediction1/mix1_régional/mix_84.csv\n",
      "Hackathon_Data/Dataset/Prediction1/mix1_régional/mix_52.csv\n",
      "100%|██████████| 500/500 [00:06<00:00, 75.02trial/s, best loss: 0.0036625916128581043]\n",
      "Fitted parameters:\n"
     ]
    },
    {
     "data": {
      "text/latex": [
       "$\\displaystyle a_0=0.03, a_1=0.00, \\omega=6.29, \\phi=0.94$"
      ],
      "text/plain": [
       "<IPython.core.display.Math object>"
      ]
     },
     "metadata": {},
     "output_type": "display_data"
    },
    {
     "name": "stdout",
     "output_type": "stream",
     "text": [
      "Original parameters:\n"
     ]
    },
    {
     "data": {
      "text/latex": [
       "$\\displaystyle a_0=10.00, a_1=5.00, \\omega=3.00, \\phi=2.00$"
      ],
      "text/plain": [
       "<IPython.core.display.Math object>"
      ]
     },
     "metadata": {},
     "output_type": "display_data"
    }
   ],
   "source": [
    "import numpy as np\n",
    "import pandas as pd\n",
    "import math\n",
    "import os\n",
    "import matplotlib.pyplot as plt\n",
    "from HOBIT import RegressionForTrigonometric\n",
    "from IPython.display import display, Math\n",
    "import random as rd\n",
    "\n",
    "#PATHS\n",
    "\n",
    "input_path = \"Hackathon_Data/input_file_csv.csv\"\n",
    "weather_path = \"Hackathon_Data/Dataset/weather.csv\"\n",
    "mix_path = \"Hackathon_Data/Dataset/mix.csv\"\n",
    "cost_path = \"Hackathon_Data/Dataset/cost.csv\"\n",
    "\n",
    "folder_path = \"Hackathon_Data/Dataset/Prediction1/mix1_régional\"\n",
    "\n",
    "mixes = []\n",
    "names = []\n",
    "\n",
    "def computeMix(Thermique,Nucléaire,Eolien,Solaire,Hydraulique,Pompage,Bio):\n",
    "    ER_sum = Eolien + Solaire + Hydraulique + Pompage + Bio\n",
    "    ENR_sum = Thermique + Nucléaire\n",
    "    if(ER_sum + ENR_sum == 0):\n",
    "        return 0\n",
    "    if(ER_sum/(ER_sum + ENR_sum) <= 0 or ER_sum/(ER_sum + ENR_sum) >= 1):\n",
    "        return 0\n",
    "    else:\n",
    "        return ER_sum/(ER_sum + ENR_sum)\n",
    "    \n",
    "for subdir, dirs, files in os.walk(folder_path):\n",
    "    for file in files:\n",
    "        filepath = subdir + os.sep + file\n",
    "\n",
    "        df = pd.read_csv(filepath)\n",
    "        df = df.replace(np.nan, 0)\n",
    "        list = []\n",
    "        for i in range(len(df)):\n",
    "            mix = computeMix(df[' Thermique (MW)'].values[i],df[' Nucléaire (MW)'].values[i],df[' Eolien (MW)'].values[i],df[' Solaire (MW)'].values[i],df[' Hydraulique (MW)'].values[i],df[' Pompage (MW)'].values[i],df[' Bioénergies (MW)'].values[i])\n",
    "            list.append(mix)\n",
    "        \n",
    "        mixes.append(list)\n",
    "        names.append(filepath)\n",
    "\n",
    "        if filepath.endswith(\".csv\"):\n",
    "            print (filepath)\n",
    "\n",
    "df2 = pd.read_csv(\"Hackathon_Data/Dataset/Prediction1/mix1/mix_28.csv\")\n",
    "df2[\"time\"] = pd.to_datetime(df2[' Date - Heure'], format=\"%Y-%m-%dT%H:%M:%S\")\n",
    "\n",
    "mix_abscisse = df2[\"time\"].tolist()\n",
    "\n",
    "# figure, axes = plt.subplots(nrows=2, ncols=2)\n",
    "\n",
    "# print(names)\n",
    "\n",
    "# #plt.plot(mix_abscisse,avg)\n",
    "# for i in range(0,4):\n",
    "#     if(i < 2):\n",
    "#         axes[0,i].plot(mix_abscisse,mixes[i])\n",
    "#     else:\n",
    "#         axes[1,i-2].plot(mix_abscisse,mixes[i])\n",
    "\n",
    "# figure.tight_layout()\n",
    "# figure.show()\n",
    "# plt.show()\n",
    "\n",
    "seed = rd.seed()\n",
    "\n",
    "X_train = np.array(range(len(mixes[0])))\n",
    "y_train = np.array(mixes[0])\n",
    "trig_reg = RegressionForTrigonometric()\n",
    "trig_reg.fit_cos(X_train, y_train, max_evals=500, rstate=np.random.RandomState(seed))\n",
    "\n",
    "'exec(%matplotlib inline)'\n",
    "\n",
    "print('Fitted parameters:')\n",
    "display(Math('a_0={intercept:.2f}, a_1={amplitude:.2f}, \\\\omega={omega:.2f}, \\\\phi={phi:.2f}'.format(**trig_reg.best_parameters)))\n",
    "print('Original parameters:')\n",
    "display(Math('a_0={:.2f}, a_1={:.2f}, \\\\omega={:.2f}, \\\\phi={:.2f}'.format(*[10.0, 5.0, 3.0, 2.0])))"
   ]
  },
  {
   "cell_type": "code",
   "execution_count": 4,
   "metadata": {},
   "outputs": [
    {
     "name": "stdout",
     "output_type": "stream",
     "text": [
      "Collecting hyperopt\n",
      "  Using cached hyperopt-0.2.5-py2.py3-none-any.whl (965 kB)\n",
      "Requirement already satisfied: tqdm in /Users/hugodanet/opt/anaconda3/lib/python3.7/site-packages (from hyperopt) (4.42.1)\n",
      "Requirement already satisfied: numpy in /Users/hugodanet/opt/anaconda3/lib/python3.7/site-packages (from hyperopt) (1.18.5)\n",
      "Requirement already satisfied: scipy in /Users/hugodanet/opt/anaconda3/lib/python3.7/site-packages (from hyperopt) (1.4.1)\n",
      "Requirement already satisfied: cloudpickle in /Users/hugodanet/opt/anaconda3/lib/python3.7/site-packages (from hyperopt) (0.5.3)\n",
      "Requirement already satisfied: six in /Users/hugodanet/opt/anaconda3/lib/python3.7/site-packages (from hyperopt) (1.15.0)\n",
      "Collecting networkx>=2.2\n",
      "  Using cached networkx-2.5-py3-none-any.whl (1.6 MB)\n",
      "Requirement already satisfied: future in /Users/hugodanet/opt/anaconda3/lib/python3.7/site-packages (from hyperopt) (0.18.2)\n",
      "Requirement already satisfied: decorator>=4.3.0 in /Users/hugodanet/opt/anaconda3/lib/python3.7/site-packages (from networkx>=2.2->hyperopt) (4.3.0)\n",
      "Installing collected packages: networkx, hyperopt\n",
      "  Attempting uninstall: networkx\n",
      "    Found existing installation: networkx 2.1\n",
      "    Uninstalling networkx-2.1:\n",
      "      Successfully uninstalled networkx-2.1\n",
      "Successfully installed hyperopt-0.2.5 networkx-2.5\n"
     ]
    }
   ],
   "source": [
    "# Install a pip package in the current Jupyter kernel\n",
    "import sys\n",
    "!{sys.executable} -m pip install hyperopt"
   ]
  },
  {
   "cell_type": "code",
   "execution_count": null,
   "metadata": {},
   "outputs": [],
   "source": []
  }
 ],
 "metadata": {
  "kernelspec": {
   "display_name": "Python 3",
   "language": "python",
   "name": "python3"
  },
  "language_info": {
   "codemirror_mode": {
    "name": "ipython",
    "version": 3
   },
   "file_extension": ".py",
   "mimetype": "text/x-python",
   "name": "python",
   "nbconvert_exporter": "python",
   "pygments_lexer": "ipython3",
   "version": "3.7.6"
  }
 },
 "nbformat": 4,
 "nbformat_minor": 4
}
